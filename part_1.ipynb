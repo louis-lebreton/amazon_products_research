{
 "cells": [
  {
   "cell_type": "code",
   "execution_count": 3,
   "id": "180fa50d-2b13-487c-877d-6eaa99a86832",
   "metadata": {
    "tags": []
   },
   "outputs": [],
   "source": [
    "import os \n",
    "import pandas as pd\n",
    "import matplotlib.pyplot as plt \n",
    "import numpy as np\n",
    "import seaborn as sns"
   ]
  },
  {
   "cell_type": "markdown",
   "id": "61fb4762",
   "metadata": {},
   "source": [
    "## <span style ='color:blue'> Analysis and creation of the data frame"
   ]
  },
  {
   "cell_type": "code",
   "execution_count": 4,
   "id": "be4e2f0c-6995-47c2-97c2-818943b90cdd",
   "metadata": {
    "tags": []
   },
   "outputs": [],
   "source": [
    "df_prod=pd.read_csv('../Data/raw/amazon_products.csv')\n",
    "df_cat=pd.read_csv('../Data/raw/amazon_categories.csv')\n",
    "\n",
    "df=pd.merge(df_prod, df_cat,  how='left', left_on=['category_id'], right_on = ['id'])\n",
    "\n",
    "df.drop(\"category_id\",axis=1,inplace=True)\n",
    "# Removal of 'category_id' since this information is already present in the 'id' column"
   ]
  },
  {
   "cell_type": "code",
   "execution_count": 5,
   "id": "8d72e540-41e9-41bd-bd8c-e7a1b81920a0",
   "metadata": {
    "tags": []
   },
   "outputs": [
    {
     "name": "stdout",
     "output_type": "stream",
     "text": [
      "<class 'pandas.core.frame.DataFrame'>\n",
      "RangeIndex: 1426337 entries, 0 to 1426336\n",
      "Data columns (total 12 columns):\n",
      " #   Column             Non-Null Count    Dtype  \n",
      "---  ------             --------------    -----  \n",
      " 0   asin               1426337 non-null  object \n",
      " 1   title              1426336 non-null  object \n",
      " 2   imgUrl             1426337 non-null  object \n",
      " 3   productURL         1426337 non-null  object \n",
      " 4   stars              1426337 non-null  float64\n",
      " 5   reviews            1426337 non-null  int64  \n",
      " 6   price              1426337 non-null  float64\n",
      " 7   listPrice          1426337 non-null  float64\n",
      " 8   isBestSeller       1426337 non-null  bool   \n",
      " 9   boughtInLastMonth  1426337 non-null  int64  \n",
      " 10  id                 1426337 non-null  int64  \n",
      " 11  category_name      1426337 non-null  object \n",
      "dtypes: bool(1), float64(3), int64(3), object(5)\n",
      "memory usage: 121.1+ MB\n"
     ]
    },
    {
     "data": {
      "text/html": [
       "<div>\n",
       "<style scoped>\n",
       "    .dataframe tbody tr th:only-of-type {\n",
       "        vertical-align: middle;\n",
       "    }\n",
       "\n",
       "    .dataframe tbody tr th {\n",
       "        vertical-align: top;\n",
       "    }\n",
       "\n",
       "    .dataframe thead th {\n",
       "        text-align: right;\n",
       "    }\n",
       "</style>\n",
       "<table border=\"1\" class=\"dataframe\">\n",
       "  <thead>\n",
       "    <tr style=\"text-align: right;\">\n",
       "      <th></th>\n",
       "      <th>asin</th>\n",
       "      <th>title</th>\n",
       "      <th>imgUrl</th>\n",
       "      <th>productURL</th>\n",
       "      <th>stars</th>\n",
       "      <th>reviews</th>\n",
       "      <th>price</th>\n",
       "      <th>listPrice</th>\n",
       "      <th>isBestSeller</th>\n",
       "      <th>boughtInLastMonth</th>\n",
       "      <th>id</th>\n",
       "      <th>category_name</th>\n",
       "    </tr>\n",
       "  </thead>\n",
       "  <tbody>\n",
       "    <tr>\n",
       "      <th>0</th>\n",
       "      <td>B014TMV5YE</td>\n",
       "      <td>Sion Softside Expandable Roller Luggage, Black...</td>\n",
       "      <td>https://m.media-amazon.com/images/I/815dLQKYIY...</td>\n",
       "      <td>https://www.amazon.com/dp/B014TMV5YE</td>\n",
       "      <td>4.5</td>\n",
       "      <td>0</td>\n",
       "      <td>139.99</td>\n",
       "      <td>0.00</td>\n",
       "      <td>False</td>\n",
       "      <td>2000</td>\n",
       "      <td>104</td>\n",
       "      <td>Suitcases</td>\n",
       "    </tr>\n",
       "    <tr>\n",
       "      <th>1</th>\n",
       "      <td>B07GDLCQXV</td>\n",
       "      <td>Luggage Sets Expandable PC+ABS Durable Suitcas...</td>\n",
       "      <td>https://m.media-amazon.com/images/I/81bQlm7vf6...</td>\n",
       "      <td>https://www.amazon.com/dp/B07GDLCQXV</td>\n",
       "      <td>4.5</td>\n",
       "      <td>0</td>\n",
       "      <td>169.99</td>\n",
       "      <td>209.99</td>\n",
       "      <td>False</td>\n",
       "      <td>1000</td>\n",
       "      <td>104</td>\n",
       "      <td>Suitcases</td>\n",
       "    </tr>\n",
       "    <tr>\n",
       "      <th>2</th>\n",
       "      <td>B07XSCCZYG</td>\n",
       "      <td>Platinum Elite Softside Expandable Checked Lug...</td>\n",
       "      <td>https://m.media-amazon.com/images/I/71EA35zvJB...</td>\n",
       "      <td>https://www.amazon.com/dp/B07XSCCZYG</td>\n",
       "      <td>4.6</td>\n",
       "      <td>0</td>\n",
       "      <td>365.49</td>\n",
       "      <td>429.99</td>\n",
       "      <td>False</td>\n",
       "      <td>300</td>\n",
       "      <td>104</td>\n",
       "      <td>Suitcases</td>\n",
       "    </tr>\n",
       "    <tr>\n",
       "      <th>3</th>\n",
       "      <td>B08MVFKGJM</td>\n",
       "      <td>Freeform Hardside Expandable with Double Spinn...</td>\n",
       "      <td>https://m.media-amazon.com/images/I/91k6NYLQyI...</td>\n",
       "      <td>https://www.amazon.com/dp/B08MVFKGJM</td>\n",
       "      <td>4.6</td>\n",
       "      <td>0</td>\n",
       "      <td>291.59</td>\n",
       "      <td>354.37</td>\n",
       "      <td>False</td>\n",
       "      <td>400</td>\n",
       "      <td>104</td>\n",
       "      <td>Suitcases</td>\n",
       "    </tr>\n",
       "    <tr>\n",
       "      <th>4</th>\n",
       "      <td>B01DJLKZBA</td>\n",
       "      <td>Winfield 2 Hardside Expandable Luggage with Sp...</td>\n",
       "      <td>https://m.media-amazon.com/images/I/61NJoaZcP9...</td>\n",
       "      <td>https://www.amazon.com/dp/B01DJLKZBA</td>\n",
       "      <td>4.5</td>\n",
       "      <td>0</td>\n",
       "      <td>174.99</td>\n",
       "      <td>309.99</td>\n",
       "      <td>False</td>\n",
       "      <td>400</td>\n",
       "      <td>104</td>\n",
       "      <td>Suitcases</td>\n",
       "    </tr>\n",
       "  </tbody>\n",
       "</table>\n",
       "</div>"
      ],
      "text/plain": [
       "         asin                                              title  \\\n",
       "0  B014TMV5YE  Sion Softside Expandable Roller Luggage, Black...   \n",
       "1  B07GDLCQXV  Luggage Sets Expandable PC+ABS Durable Suitcas...   \n",
       "2  B07XSCCZYG  Platinum Elite Softside Expandable Checked Lug...   \n",
       "3  B08MVFKGJM  Freeform Hardside Expandable with Double Spinn...   \n",
       "4  B01DJLKZBA  Winfield 2 Hardside Expandable Luggage with Sp...   \n",
       "\n",
       "                                              imgUrl  \\\n",
       "0  https://m.media-amazon.com/images/I/815dLQKYIY...   \n",
       "1  https://m.media-amazon.com/images/I/81bQlm7vf6...   \n",
       "2  https://m.media-amazon.com/images/I/71EA35zvJB...   \n",
       "3  https://m.media-amazon.com/images/I/91k6NYLQyI...   \n",
       "4  https://m.media-amazon.com/images/I/61NJoaZcP9...   \n",
       "\n",
       "                             productURL  stars  reviews   price  listPrice  \\\n",
       "0  https://www.amazon.com/dp/B014TMV5YE    4.5        0  139.99       0.00   \n",
       "1  https://www.amazon.com/dp/B07GDLCQXV    4.5        0  169.99     209.99   \n",
       "2  https://www.amazon.com/dp/B07XSCCZYG    4.6        0  365.49     429.99   \n",
       "3  https://www.amazon.com/dp/B08MVFKGJM    4.6        0  291.59     354.37   \n",
       "4  https://www.amazon.com/dp/B01DJLKZBA    4.5        0  174.99     309.99   \n",
       "\n",
       "   isBestSeller  boughtInLastMonth   id category_name  \n",
       "0         False               2000  104     Suitcases  \n",
       "1         False               1000  104     Suitcases  \n",
       "2         False                300  104     Suitcases  \n",
       "3         False                400  104     Suitcases  \n",
       "4         False                400  104     Suitcases  "
      ]
     },
     "execution_count": 5,
     "metadata": {},
     "output_type": "execute_result"
    }
   ],
   "source": [
    "df.info()\n",
    "df.describe()\n",
    "df.head()"
   ]
  },
  {
   "cell_type": "code",
   "execution_count": 6,
   "id": "6af45ac3-5fa4-4dd3-aec7-7245d8cbabdc",
   "metadata": {
    "tags": []
   },
   "outputs": [
    {
     "name": "stdout",
     "output_type": "stream",
     "text": [
      "price     32772\n",
      "stars    131023\n",
      "dtype: int64\n",
      "------------------\n",
      "price    2.297634\n",
      "stars    9.185978\n",
      "dtype: float64\n"
     ]
    }
   ],
   "source": [
    "# Checking how many null values are present in 'price' and 'stars'\n",
    "nbr_0=(df[['price','stars']]==0).sum()\n",
    "print(nbr_0)\n",
    "print(\"------------------\")\n",
    "nbr_0_prct= (df[['price','stars']]==0).sum()/len(df)*100\n",
    "print(nbr_0_prct)"
   ]
  },
  {
   "cell_type": "code",
   "execution_count": 7,
   "id": "0c4c316e-6df9-4b06-9a6a-f3c025182c67",
   "metadata": {
    "tags": []
   },
   "outputs": [
    {
     "name": "stdout",
     "output_type": "stream",
     "text": [
      "asin                 0\n",
      "title                1\n",
      "imgUrl               0\n",
      "productURL           0\n",
      "stars                0\n",
      "reviews              0\n",
      "price                0\n",
      "listPrice            0\n",
      "isBestSeller         0\n",
      "boughtInLastMonth    0\n",
      "id                   0\n",
      "category_name        0\n",
      "dtype: int64\n"
     ]
    }
   ],
   "source": [
    "# number of missing values\n",
    "na_nbr=df.isna().sum()\n",
    "print(na_nbr)"
   ]
  },
  {
   "cell_type": "code",
   "execution_count": 6,
   "id": "9ba05dd5-e054-4dca-90e6-92f7cc3ff429",
   "metadata": {
    "tags": []
   },
   "outputs": [],
   "source": [
    "df['stars']=df['stars'].replace(0, np.nan)\n",
    "df['price']=df['price'].replace(0, np.nan)\n",
    "\n",
    "## data frame export\n",
    "df.to_csv('../Data/out/amazon_data.csv',index=False)"
   ]
  },
  {
   "cell_type": "markdown",
   "id": "3640d268-3725-431b-9ad7-74a503626d27",
   "metadata": {
    "tags": []
   },
   "source": [
    "## <span style ='color:blue'> Visualization of the data frame"
   ]
  },
  {
   "cell_type": "code",
   "execution_count": 8,
   "id": "f78383cc-238f-4160-a50a-2acf43ccd21b",
   "metadata": {
    "tags": []
   },
   "outputs": [
    {
     "data": {
      "text/html": [
       "<div>\n",
       "<style scoped>\n",
       "    .dataframe tbody tr th:only-of-type {\n",
       "        vertical-align: middle;\n",
       "    }\n",
       "\n",
       "    .dataframe tbody tr th {\n",
       "        vertical-align: top;\n",
       "    }\n",
       "\n",
       "    .dataframe thead th {\n",
       "        text-align: right;\n",
       "    }\n",
       "</style>\n",
       "<table border=\"1\" class=\"dataframe\">\n",
       "  <thead>\n",
       "    <tr style=\"text-align: right;\">\n",
       "      <th></th>\n",
       "      <th>asin</th>\n",
       "      <th>title</th>\n",
       "      <th>reviews</th>\n",
       "    </tr>\n",
       "  </thead>\n",
       "  <tbody>\n",
       "    <tr>\n",
       "      <th>1070592</th>\n",
       "      <td>B00T0C9XRK</td>\n",
       "      <td>essence | Lash Princess False Lash Effect Masc...</td>\n",
       "      <td>346563</td>\n",
       "    </tr>\n",
       "    <tr>\n",
       "      <th>47104</th>\n",
       "      <td>B09MV3KMPT</td>\n",
       "      <td>ThisWorx Cordless Car Vacuum - Portable, Mini ...</td>\n",
       "      <td>292474</td>\n",
       "    </tr>\n",
       "    <tr>\n",
       "      <th>1075493</th>\n",
       "      <td>B07VMNJHBK</td>\n",
       "      <td>Full Size Sheet Set - Breathable &amp; Cooling She...</td>\n",
       "      <td>281661</td>\n",
       "    </tr>\n",
       "    <tr>\n",
       "      <th>1075468</th>\n",
       "      <td>B09JVTQKDN</td>\n",
       "      <td>Queen Size Sheet Set - Breathable &amp; Cooling Sh...</td>\n",
       "      <td>281661</td>\n",
       "    </tr>\n",
       "    <tr>\n",
       "      <th>1075466</th>\n",
       "      <td>B07PH22TG9</td>\n",
       "      <td>Queen Size Sheet Set - Breathable &amp; Cooling Sh...</td>\n",
       "      <td>281661</td>\n",
       "    </tr>\n",
       "    <tr>\n",
       "      <th>116788</th>\n",
       "      <td>B07X6C9RMF</td>\n",
       "      <td>Blink Mini – Compact indoor plug-in smart secu...</td>\n",
       "      <td>260659</td>\n",
       "    </tr>\n",
       "    <tr>\n",
       "      <th>1070627</th>\n",
       "      <td>B004Y9GTOO</td>\n",
       "      <td>Maybelline New York Instant Age Rewind Eraser ...</td>\n",
       "      <td>194051</td>\n",
       "    </tr>\n",
       "    <tr>\n",
       "      <th>104930</th>\n",
       "      <td>B07KKXQNMY</td>\n",
       "      <td>Schick Hydro Silk Touch-Up Exfoliating Dermapl...</td>\n",
       "      <td>183726</td>\n",
       "    </tr>\n",
       "    <tr>\n",
       "      <th>52987</th>\n",
       "      <td>B07WVFCVJN</td>\n",
       "      <td>Roku Express | HD Roku Streaming Device with S...</td>\n",
       "      <td>177760</td>\n",
       "    </tr>\n",
       "    <tr>\n",
       "      <th>65089</th>\n",
       "      <td>B09N3ZNHTY</td>\n",
       "      <td>BOAT Airdopes 141 Bluetooth Truly Wireless in ...</td>\n",
       "      <td>174524</td>\n",
       "    </tr>\n",
       "  </tbody>\n",
       "</table>\n",
       "</div>"
      ],
      "text/plain": [
       "               asin                                              title  \\\n",
       "1070592  B00T0C9XRK  essence | Lash Princess False Lash Effect Masc...   \n",
       "47104    B09MV3KMPT  ThisWorx Cordless Car Vacuum - Portable, Mini ...   \n",
       "1075493  B07VMNJHBK  Full Size Sheet Set - Breathable & Cooling She...   \n",
       "1075468  B09JVTQKDN  Queen Size Sheet Set - Breathable & Cooling Sh...   \n",
       "1075466  B07PH22TG9  Queen Size Sheet Set - Breathable & Cooling Sh...   \n",
       "116788   B07X6C9RMF  Blink Mini – Compact indoor plug-in smart secu...   \n",
       "1070627  B004Y9GTOO  Maybelline New York Instant Age Rewind Eraser ...   \n",
       "104930   B07KKXQNMY  Schick Hydro Silk Touch-Up Exfoliating Dermapl...   \n",
       "52987    B07WVFCVJN  Roku Express | HD Roku Streaming Device with S...   \n",
       "65089    B09N3ZNHTY  BOAT Airdopes 141 Bluetooth Truly Wireless in ...   \n",
       "\n",
       "         reviews  \n",
       "1070592   346563  \n",
       "47104     292474  \n",
       "1075493   281661  \n",
       "1075468   281661  \n",
       "1075466   281661  \n",
       "116788    260659  \n",
       "1070627   194051  \n",
       "104930    183726  \n",
       "52987     177760  \n",
       "65089     174524  "
      ]
     },
     "execution_count": 8,
     "metadata": {},
     "output_type": "execute_result"
    }
   ],
   "source": [
    "TopRev=df.sort_values(by='reviews',ascending=False)\n",
    "TopRev[['asin','title','reviews']].head(10)"
   ]
  },
  {
   "cell_type": "code",
   "execution_count": 10,
   "id": "0e11da23-fbe3-4ab4-b16a-67b05c209a3c",
   "metadata": {
    "tags": []
   },
   "outputs": [
    {
     "data": {
      "image/png": "[encoded data removed]",
      "text/plain": [
       "<Figure size 640x480 with 1 Axes>"
      ]
     },
     "metadata": {},
     "output_type": "display_data"
    }
   ],
   "source": [
    "\n",
    "Top10=TopRev.head(10).sort_values(by='stars',ascending=False)\n",
    "\n",
    "graph1=sns.barplot(Top10,x='asin',y='stars')\n",
    "graph1.set_title(\"Note moyenne des 10 articles ayant le plus d'avis\")\n",
    "plt.xlabel('Identifiant du produit Amazon')\n",
    "plt.ylabel('Note sur 5 du produit')\n",
    "plt.xticks(fontsize=5)\n",
    "plt.show(graph1)"
   ]
  },
  {
   "cell_type": "code",
   "execution_count": 11,
   "id": "2829565a-cd61-4a4e-bf80-9486040e71fa",
   "metadata": {
    "tags": []
   },
   "outputs": [
    {
     "data": {
      "text/html": [
       "<div>\n",
       "<style scoped>\n",
       "    .dataframe tbody tr th:only-of-type {\n",
       "        vertical-align: middle;\n",
       "    }\n",
       "\n",
       "    .dataframe tbody tr th {\n",
       "        vertical-align: top;\n",
       "    }\n",
       "\n",
       "    .dataframe thead th {\n",
       "        text-align: right;\n",
       "    }\n",
       "</style>\n",
       "<table border=\"1\" class=\"dataframe\">\n",
       "  <thead>\n",
       "    <tr style=\"text-align: right;\">\n",
       "      <th></th>\n",
       "      <th>price</th>\n",
       "      <th>stars</th>\n",
       "    </tr>\n",
       "    <tr>\n",
       "      <th>category_name</th>\n",
       "      <th></th>\n",
       "      <th></th>\n",
       "    </tr>\n",
       "  </thead>\n",
       "  <tbody>\n",
       "    <tr>\n",
       "      <th>Computer Servers</th>\n",
       "      <td>1534.224685</td>\n",
       "      <td>0.645105</td>\n",
       "    </tr>\n",
       "    <tr>\n",
       "      <th>Computers &amp; Tablets</th>\n",
       "      <td>544.380915</td>\n",
       "      <td>3.241583</td>\n",
       "    </tr>\n",
       "    <tr>\n",
       "      <th>Smart Home: Home Entertainment</th>\n",
       "      <td>347.994205</td>\n",
       "      <td>4.301136</td>\n",
       "    </tr>\n",
       "    <tr>\n",
       "      <th>Luggage Sets</th>\n",
       "      <td>229.588792</td>\n",
       "      <td>3.830872</td>\n",
       "    </tr>\n",
       "    <tr>\n",
       "      <th>Smart Home: Vacuums and Mops</th>\n",
       "      <td>221.128077</td>\n",
       "      <td>3.935897</td>\n",
       "    </tr>\n",
       "    <tr>\n",
       "      <th>Smart Home - Heating &amp; Cooling</th>\n",
       "      <td>220.455233</td>\n",
       "      <td>3.947670</td>\n",
       "    </tr>\n",
       "    <tr>\n",
       "      <th>Computer Monitors</th>\n",
       "      <td>219.811412</td>\n",
       "      <td>2.967634</td>\n",
       "    </tr>\n",
       "    <tr>\n",
       "      <th>Computer External Components</th>\n",
       "      <td>163.548317</td>\n",
       "      <td>2.617870</td>\n",
       "    </tr>\n",
       "    <tr>\n",
       "      <th>Video Projectors</th>\n",
       "      <td>161.998471</td>\n",
       "      <td>3.087097</td>\n",
       "    </tr>\n",
       "    <tr>\n",
       "      <th>Camera &amp; Photo</th>\n",
       "      <td>160.576220</td>\n",
       "      <td>4.386870</td>\n",
       "    </tr>\n",
       "    <tr>\n",
       "      <th>Data Storage</th>\n",
       "      <td>154.196072</td>\n",
       "      <td>3.101863</td>\n",
       "    </tr>\n",
       "    <tr>\n",
       "      <th>Smart Home: Smart Locks and Entry</th>\n",
       "      <td>152.872203</td>\n",
       "      <td>4.165424</td>\n",
       "    </tr>\n",
       "    <tr>\n",
       "      <th>Smart Home Thermostats - Compatibility Checker</th>\n",
       "      <td>149.333182</td>\n",
       "      <td>1.204545</td>\n",
       "    </tr>\n",
       "    <tr>\n",
       "      <th>Smart Home: Lawn and Garden</th>\n",
       "      <td>137.650658</td>\n",
       "      <td>4.244737</td>\n",
       "    </tr>\n",
       "    <tr>\n",
       "      <th>Smart Home: New Smart Devices</th>\n",
       "      <td>134.095952</td>\n",
       "      <td>4.095238</td>\n",
       "    </tr>\n",
       "  </tbody>\n",
       "</table>\n",
       "</div>"
      ],
      "text/plain": [
       "                                                      price     stars\n",
       "category_name                                                        \n",
       "Computer Servers                                1534.224685  0.645105\n",
       "Computers & Tablets                              544.380915  3.241583\n",
       "Smart Home: Home Entertainment                   347.994205  4.301136\n",
       "Luggage Sets                                     229.588792  3.830872\n",
       "Smart Home: Vacuums and Mops                     221.128077  3.935897\n",
       "Smart Home - Heating & Cooling                   220.455233  3.947670\n",
       "Computer Monitors                                219.811412  2.967634\n",
       "Computer External Components                     163.548317  2.617870\n",
       "Video Projectors                                 161.998471  3.087097\n",
       "Camera & Photo                                   160.576220  4.386870\n",
       "Data Storage                                     154.196072  3.101863\n",
       "Smart Home: Smart Locks and Entry                152.872203  4.165424\n",
       "Smart Home Thermostats - Compatibility Checker   149.333182  1.204545\n",
       "Smart Home: Lawn and Garden                      137.650658  4.244737\n",
       "Smart Home: New Smart Devices                    134.095952  4.095238"
      ]
     },
     "execution_count": 11,
     "metadata": {},
     "output_type": "execute_result"
    }
   ],
   "source": [
    "Group_cat=df.groupby('category_name').mean('price')\n",
    "MostExp_cat=Group_cat.sort_values('price',ascending=False)\n",
    "MostExp_cat[['price','stars']].head(15)"
   ]
  },
  {
   "cell_type": "code",
   "execution_count": 12,
   "id": "8e686058-a4bb-4973-94c6-3a9808a7b449",
   "metadata": {
    "tags": []
   },
   "outputs": [
    {
     "data": {
      "image/png": "[encoded data removed]",
      "text/plain": [
       "<Figure size 640x480 with 1 Axes>"
      ]
     },
     "metadata": {},
     "output_type": "display_data"
    }
   ],
   "source": [
    "graph2=sns.barplot(MostExp_cat.head(15),x='id',y='price')\n",
    "plt.xticks(fontsize=7)\n",
    "graph2.set_title('Prix moyens pour les 15 catégories les plus chères')\n",
    "plt.xlabel('Identifiant de la catégorie')\n",
    "plt.ylabel('Prix moyen de la catégorie')\n",
    "plt.show(graph2)"
   ]
  },
  {
   "cell_type": "code",
   "execution_count": 13,
   "id": "d5dde6e9-13ae-44a8-a2b6-2d860d701efe",
   "metadata": {
    "tags": []
   },
   "outputs": [
    {
     "data": {
      "text/html": [
       "<div>\n",
       "<style scoped>\n",
       "    .dataframe tbody tr th:only-of-type {\n",
       "        vertical-align: middle;\n",
       "    }\n",
       "\n",
       "    .dataframe tbody tr th {\n",
       "        vertical-align: top;\n",
       "    }\n",
       "\n",
       "    .dataframe thead th {\n",
       "        text-align: right;\n",
       "    }\n",
       "</style>\n",
       "<table border=\"1\" class=\"dataframe\">\n",
       "  <thead>\n",
       "    <tr style=\"text-align: right;\">\n",
       "      <th></th>\n",
       "      <th>title</th>\n",
       "      <th>isBestSeller</th>\n",
       "      <th>stars</th>\n",
       "    </tr>\n",
       "  </thead>\n",
       "  <tbody>\n",
       "    <tr>\n",
       "      <th>9503</th>\n",
       "      <td>Men Classic Fit Dress Pant Casual Flat Front P...</td>\n",
       "      <td>True</td>\n",
       "      <td>0.0</td>\n",
       "    </tr>\n",
       "    <tr>\n",
       "      <th>25909</th>\n",
       "      <td>Men's Sneaker, Smoke Grey White Dk Smoke Grey, 12</td>\n",
       "      <td>True</td>\n",
       "      <td>0.0</td>\n",
       "    </tr>\n",
       "    <tr>\n",
       "      <th>50974</th>\n",
       "      <td>Digital TV Converter Box, ATSC Cabal Box - ZJB...</td>\n",
       "      <td>True</td>\n",
       "      <td>3.8</td>\n",
       "    </tr>\n",
       "    <tr>\n",
       "      <th>51329</th>\n",
       "      <td>Bobtot Home Theater Systems Surround Sound Spe...</td>\n",
       "      <td>True</td>\n",
       "      <td>3.9</td>\n",
       "    </tr>\n",
       "    <tr>\n",
       "      <th>109032</th>\n",
       "      <td>BELLA BAYS Copper Tubing 1/2\" OD x 7/16\" ID x ...</td>\n",
       "      <td>True</td>\n",
       "      <td>0.0</td>\n",
       "    </tr>\n",
       "  </tbody>\n",
       "</table>\n",
       "</div>"
      ],
      "text/plain": [
       "                                                    title  isBestSeller  stars\n",
       "9503    Men Classic Fit Dress Pant Casual Flat Front P...          True    0.0\n",
       "25909   Men's Sneaker, Smoke Grey White Dk Smoke Grey, 12          True    0.0\n",
       "50974   Digital TV Converter Box, ATSC Cabal Box - ZJB...          True    3.8\n",
       "51329   Bobtot Home Theater Systems Surround Sound Spe...          True    3.9\n",
       "109032  BELLA BAYS Copper Tubing 1/2\" OD x 7/16\" ID x ...          True    0.0"
      ]
     },
     "execution_count": 13,
     "metadata": {},
     "output_type": "execute_result"
    }
   ],
   "source": [
    "\n",
    "IsBS=df.loc[(df['isBestSeller']==True)&(df['stars']<4)]\n",
    "IsBS[['title','isBestSeller','stars']].head(5)"
   ]
  },
  {
   "cell_type": "code",
   "execution_count": 14,
   "id": "b08e94ae-5a3b-4e7e-9561-cc1dc1fbf163",
   "metadata": {
    "tags": []
   },
   "outputs": [
    {
     "data": {
      "image/png": "[encoded data removed]",
      "text/plain": [
       "<Figure size 640x480 with 1 Axes>"
      ]
     },
     "metadata": {},
     "output_type": "display_data"
    },
    {
     "name": "stdout",
     "output_type": "stream",
     "text": [
      "Médiane:  18.99 | 1er Quartile:  11.95 | 3ème Quartile:  31.97\n"
     ]
    }
   ],
   "source": [
    "\n",
    "graph3=sns.boxplot(IsBS,x='price')\n",
    "graph3.set_title('Distribution des prix')\n",
    "plt.show()\n",
    "\n",
    "pmed=IsBS['price'].median()\n",
    "Q1=IsBS['price'].quantile(0.25)\n",
    "Q3=IsBS['price'].quantile(0.75)\n",
    "print ('Médiane: ',pmed ,'| 1er Quartile: ', Q1,'| 3ème Quartile: ', Q3)"
   ]
  },
  {
   "cell_type": "code",
   "execution_count": 52,
   "id": "c7959f9d-0b2d-449e-bfa5-79d3cfb1bf58",
   "metadata": {
    "tags": []
   },
   "outputs": [
    {
     "data": {
      "text/html": [
       "<div>\n",
       "<style scoped>\n",
       "    .dataframe tbody tr th:only-of-type {\n",
       "        vertical-align: middle;\n",
       "    }\n",
       "\n",
       "    .dataframe tbody tr th {\n",
       "        vertical-align: top;\n",
       "    }\n",
       "\n",
       "    .dataframe thead th {\n",
       "        text-align: right;\n",
       "    }\n",
       "</style>\n",
       "<table border=\"1\" class=\"dataframe\">\n",
       "  <thead>\n",
       "    <tr style=\"text-align: right;\">\n",
       "      <th></th>\n",
       "      <th>price</th>\n",
       "      <th>boughtInLastMonth</th>\n",
       "      <th>category_name</th>\n",
       "    </tr>\n",
       "  </thead>\n",
       "  <tbody>\n",
       "    <tr>\n",
       "      <th>466031</th>\n",
       "      <td>20.69</td>\n",
       "      <td>100000</td>\n",
       "      <td>Oral Care Products</td>\n",
       "    </tr>\n",
       "    <tr>\n",
       "      <th>330154</th>\n",
       "      <td>16.95</td>\n",
       "      <td>20000</td>\n",
       "      <td>Perfumes &amp; Fragrances</td>\n",
       "    </tr>\n",
       "    <tr>\n",
       "      <th>922209</th>\n",
       "      <td>7.99</td>\n",
       "      <td>20000</td>\n",
       "      <td>Kitchen &amp; Bath Fixtures</td>\n",
       "    </tr>\n",
       "    <tr>\n",
       "      <th>365770</th>\n",
       "      <td>4.99</td>\n",
       "      <td>20000</td>\n",
       "      <td>Health &amp; Household</td>\n",
       "    </tr>\n",
       "    <tr>\n",
       "      <th>724853</th>\n",
       "      <td>29.98</td>\n",
       "      <td>10000</td>\n",
       "      <td>Toy Figures &amp; Playsets</td>\n",
       "    </tr>\n",
       "  </tbody>\n",
       "</table>\n",
       "</div>"
      ],
      "text/plain": [
       "        price  boughtInLastMonth            category_name\n",
       "466031  20.69             100000       Oral Care Products\n",
       "330154  16.95              20000    Perfumes & Fragrances\n",
       "922209   7.99              20000  Kitchen & Bath Fixtures\n",
       "365770   4.99              20000       Health & Household\n",
       "724853  29.98              10000   Toy Figures & Playsets"
      ]
     },
     "execution_count": 52,
     "metadata": {},
     "output_type": "execute_result"
    }
   ],
   "source": [
    "# Sorting data by units sold\n",
    "MostSell=IsBS.sort_values('boughtInLastMonth',ascending=False)\n",
    "MostSell[['price','boughtInLastMonth','category_name']].head(5)"
   ]
  },
  {
   "cell_type": "code",
   "execution_count": 15,
   "id": "136fd76a-16dd-49fe-b520-965f6350c467",
   "metadata": {},
   "outputs": [
    {
     "data": {
      "text/plain": [
       "Text(0.5, 1.0, 'Matrice de Corrélation')"
      ]
     },
     "execution_count": 15,
     "metadata": {},
     "output_type": "execute_result"
    },
    {
     "data": {
      "image/png": "[encoded data removed]",
      "text/plain": [
       "<Figure size 640x480 with 2 Axes>"
      ]
     },
     "metadata": {},
     "output_type": "display_data"
    }
   ],
   "source": [
    "# Relevant data selection for correlation\n",
    "Var=df[['price','stars','reviews','isBestSeller','boughtInLastMonth']]\n",
    "# Correlation matrix (+ heatmap)\n",
    "sns.heatmap(Var.corr(),annot=True,cmap='coolwarm',fmt='.2f')\n",
    "plt.title('Matrice de Corrélation')"
   ]
  }
 ],
 "metadata": {
  "kernelspec": {
   "display_name": "Python 3 (ipykernel)",
   "language": "python",
   "name": "python3"
  },
  "language_info": {
   "codemirror_mode": {
    "name": "ipython",
    "version": 3
   },
   "file_extension": ".py",
   "mimetype": "text/x-python",
   "name": "python",
   "nbconvert_exporter": "python",
   "pygments_lexer": "ipython3",
   "version": "3.11.4"
  }
 },
 "nbformat": 4,
 "nbformat_minor": 5
}
